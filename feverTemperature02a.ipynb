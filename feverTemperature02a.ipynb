{
 "cells": [
  {
   "cell_type": "code",
   "execution_count": null,
   "metadata": {},
   "outputs": [],
   "source": []
  },
  {
   "cell_type": "code",
   "execution_count": null,
   "metadata": {},
   "outputs": [],
   "source": [
    "using Agents\n",
    "using DynamicalSystems\n",
    "using InteractiveDynamics\n",
    "using CairoMakie\n",
    "using Plots\n",
    "using StatsPlots\n",
    "\n",
    "using Random\n",
    "using Distributions\n",
    "using Colors\n",
    "using ColorSchemes\n",
    "using Measures\n",
    "using StatsBase\n",
    "using PyCall\n",
    "using Statistics"
   ]
  },
  {
   "cell_type": "code",
   "execution_count": null,
   "metadata": {},
   "outputs": [],
   "source": [
    "seed = 123"
   ]
  },
  {
   "cell_type": "code",
   "execution_count": null,
   "metadata": {},
   "outputs": [],
   "source": [
    "const NN = 30\n",
    "const GRID_DIM = (NN,NN)\n",
    "TOTAL_AGENTS = round( Int, 0.25*prod(GRID_DIM) );"
   ]
  },
  {
   "cell_type": "code",
   "execution_count": null,
   "metadata": {},
   "outputs": [],
   "source": []
  },
  {
   "cell_type": "code",
   "execution_count": null,
   "metadata": {},
   "outputs": [],
   "source": [
    "function Mix(x, d1,d2) \n",
    "    return pdf(d1, x) + pdf(d2,x)\n",
    "end"
   ]
  },
  {
   "cell_type": "code",
   "execution_count": null,
   "metadata": {},
   "outputs": [],
   "source": [
    "\n",
    "MEAN_MONEY = 60_000\n",
    "SD_MONEY = 5_000;\n",
    "SHAPE_PARAMETER_XI = 0.5\n",
    "MONEY_DISTRIBUTION = Uniform( 1, 2*MEAN_MONEY ) # GeneralizedPareto(MEAN_MONEY, SD_MONEY, SHAPE_PARAMETER_XI) \n",
    "\n",
    "d1 = GeneralizedPareto(MEAN_MONEY, SD_MONEY, SHAPE_PARAMETER_XI) \n",
    "d2 = Gamma(MEAN_MONEY,0.5)\n",
    "\n",
    "#println(Mix(60_000,d1,d2))\n",
    "\n",
    "data = [ rand(MONEY_DISTRIBUTION,1)[1] for _ in 1:500 ]\n",
    "Plots.histogram( data, bins=12, title=\"wealth distribution\" )"
   ]
  },
  {
   "cell_type": "code",
   "execution_count": null,
   "metadata": {},
   "outputs": [],
   "source": [
    "AGENTS_MONEY = rand(MONEY_DISTRIBUTION, TOTAL_AGENTS)\n",
    "MAX_MONEY = maximum( AGENTS_MONEY );\n",
    "MOVEMENT_ENERGY_MIN_REQUIREMENT = 0.2\n",
    "\n",
    "KineticEnergy(money) = 2 * money / MAX_MONEY\n",
    "\n",
    "InvKineticEnergy(kinetic_energy) = (1/2) * MAX_MONEY * kinetic_energy #returns the money and money is then effectively the energy\n",
    "\n",
    "PotentialEnergy(remain) = 1 * Int( !remain )"
   ]
  },
  {
   "cell_type": "code",
   "execution_count": null,
   "metadata": {},
   "outputs": [],
   "source": [
    "FIXED_ENERGY_BINS = 0:0.2:1_000;"
   ]
  },
  {
   "cell_type": "code",
   "execution_count": null,
   "metadata": {},
   "outputs": [],
   "source": []
  },
  {
   "cell_type": "code",
   "execution_count": null,
   "metadata": {},
   "outputs": [],
   "source": [
    "model_iteration = 0;"
   ]
  },
  {
   "cell_type": "code",
   "execution_count": null,
   "metadata": {},
   "outputs": [],
   "source": [
    "@agent SchellingAgent GridAgent{2} begin\n",
    "    remain::Bool # whether the agent is happy to remain in its position. (true = remain, false = !remain)\n",
    "    group::Int # The group of the agent, determines remain as it interacts with neighbors\n",
    "    money::Float64 # how much money the agent has\n",
    "    \n",
    "    potential_energy::Int #identity\n",
    "    kinetic_energy::Float64 #money as it is dissipated\n",
    "    \n",
    "end"
   ]
  },
  {
   "cell_type": "code",
   "execution_count": null,
   "metadata": {},
   "outputs": [],
   "source": []
  },
  {
   "cell_type": "code",
   "execution_count": null,
   "metadata": {},
   "outputs": [],
   "source": [
    "function initialize()\n",
    "    \n",
    "    global model_iteration = 0\n",
    "    \n",
    "    space = GridSpaceSingle( GRID_DIM , periodic = true, metric = :manhattan )\n",
    "    \n",
    "    properties = Dict( :neighborhood_radius => 4, :ratio_agree_happy => 0.5 )\n",
    "    rng = Random.Xoshiro(seed)\n",
    "    \n",
    "    model = UnremovableABM(SchellingAgent, space; properties, \n",
    "                            rng=Random.Xoshiro(seed), scheduler=Schedulers.Randomly() )\n",
    "    \n",
    "    # populate the model with agents, adding equal amount of the two types of agents at random positions in the model\n",
    "    \n",
    "    for ii in 1:TOTAL_AGENTS\n",
    "        remain_i = false\n",
    "        identity_i = ii < TOTAL_AGENTS/2 ? 1 : 2\n",
    "        money_i = AGENTS_MONEY[ii]\n",
    "        \n",
    "        potential_energy_i = PotentialEnergy(remain_i)\n",
    "        kinetic_energy_i = KineticEnergy(money_i)\n",
    "        \n",
    "        agent = SchellingAgent(ii, (1, 1), remain_i, identity_i, money_i,\n",
    "                                    potential_energy_i, kinetic_energy_i)\n",
    "        add_agent_single!(agent, model)\n",
    "    end\n",
    "    return model\n",
    "end"
   ]
  },
  {
   "cell_type": "code",
   "execution_count": null,
   "metadata": {},
   "outputs": [],
   "source": [
    "function GetAgentRemainStatus(agent, model)\n",
    "    \n",
    "    #agent moves it remain is false and kinetic is higher than potential\n",
    "    kinetic_higher_than_potential = agent.kinetic_energy > MOVEMENT_ENERGY_MIN_REQUIREMENT #PotentialEnergy(agent.remain)\n",
    "\n",
    "    remain = true\n",
    "\n",
    "    neighbors = nearby_agents( agent, model, model.neighborhood_radius )\n",
    "\n",
    "    similar = 0\n",
    "    for neighbor in neighbors\n",
    "         if( neighbor.group == agent.group )\n",
    "            similar += 1\n",
    "        end        \n",
    "    end \n",
    "    \n",
    "    if ( similar/length(collect(neighbors)) ) >= model.ratio_agree_happy\n",
    "        remain = true\n",
    "    else\n",
    "        remain = false\n",
    "    end\n",
    "    \n",
    "    if( kinetic_higher_than_potential == true && remain == false )\n",
    "        return false\n",
    "    else\n",
    "        return true\n",
    "    end    \n",
    "        \n",
    "end"
   ]
  },
  {
   "cell_type": "code",
   "execution_count": null,
   "metadata": {},
   "outputs": [],
   "source": [
    "function MovementMoneySpending(agent, model)\n",
    "    \n",
    "    money_spent = InvKineticEnergy(MOVEMENT_ENERGY_MIN_REQUIREMENT)\n",
    "    \n",
    "    if( money_spent >= agent.money )\n",
    "        return\n",
    "    else\n",
    "        agent.money -=  money_spent\n",
    "    end\n",
    "    \n",
    "    \n",
    "    agent.kinetic_energy = KineticEnergy(agent.money)\n",
    "    \n",
    "    number_of_neighbors = length( collect( nearby_agents( agent, model, model.neighborhood_radius ) ) )\n",
    "    neighbor_dividend = money_spent / number_of_neighbors\n",
    "    # modify to have only 1 agent receive all the quanta of money\n",
    "    for neighbor in nearby_agents( agent, model, model.neighborhood_radius )\n",
    "        neighbor.money += neighbor_dividend\n",
    "        neighbor.kinetic_energy = KineticEnergy(neighbor.money)\n",
    "    end\n",
    "    \n",
    "end"
   ]
  },
  {
   "cell_type": "code",
   "execution_count": null,
   "metadata": {},
   "outputs": [],
   "source": [
    "function MoneySpending(agent, model)\n",
    "    money_spent = agent.money * 0.005\n",
    "    \n",
    "    agent.money -=  money_spent\n",
    "    agent.kinetic_energy = KineticEnergy(agent.money)\n",
    "    \n",
    "end"
   ]
  },
  {
   "cell_type": "markdown",
   "metadata": {},
   "source": [
    "# movement dynamics\n",
    "\n",
    "- if agent unhappy agent needs to leave the locality. "
   ]
  },
  {
   "cell_type": "code",
   "execution_count": null,
   "metadata": {},
   "outputs": [],
   "source": [
    "rand([(1,2),(4,4),(1,7),(5,4)],1)"
   ]
  },
  {
   "cell_type": "code",
   "execution_count": null,
   "metadata": {},
   "outputs": [],
   "source": [
    "function agent_step!(agent, model)\n",
    "    \n",
    "    count_near = 0\n",
    "    for pos in nearby_positions( agent, model, model.neighborhood_radius )\n",
    "        count_near += 1\n",
    "    end\n",
    "    \n",
    "    count_neighbors_same_group = 0    \n",
    "    for neighbor in nearby_agents( agent, model, model.neighborhood_radius )\n",
    "        if agent.group == neighbor.group\n",
    "            count_neighbors_same_group += 1\n",
    "        end\n",
    "    end\n",
    "    \n",
    "    agent.remain = GetAgentRemainStatus(agent, model) \n",
    "    agent.potential_energy = PotentialEnergy( agent.remain )\n",
    "    \n",
    "    if agent.remain == false\n",
    "        #move to random position #move_agent_single!(agent, model)\n",
    "        empty_positions_tmp = empty_nearby_positions(agent, model, model.neighborhood_radius )\n",
    "        if( isempty(empty_positions_tmp) == false )\n",
    "            rand_ind = rand( 1:length(collect(empty_positions_tmp)) )\n",
    "            empty_position = collect(empty_positions_tmp)[rand_ind]\n",
    "    #         println(\"zol\")\n",
    "            move_agent!( agent, empty_position, model )        \n",
    "\n",
    "            #money held by agent changes\n",
    "            MovementMoneySpending(agent, model)\n",
    "        end\n",
    "    end\n",
    "    #money changes by agent time\n",
    "    MoneySpending(agent, model)\n",
    "end"
   ]
  },
  {
   "cell_type": "code",
   "execution_count": null,
   "metadata": {},
   "outputs": [],
   "source": []
  },
  {
   "cell_type": "code",
   "execution_count": null,
   "metadata": {},
   "outputs": [],
   "source": [
    "function ModelRemainTrajectory(model)\n",
    "    remain = 0\n",
    "    for agent in allagents(model)\n",
    "        remain += agent.remain \n",
    "    end\n",
    "    return remain / nagents(model)\n",
    "end\n",
    "\n",
    "function ModelFinancialDisparity(model)\n",
    "    disparity = 0\n",
    "    for agent in allagents(model)\n",
    "        \n",
    "        disparity_temp = 0\n",
    "        number_of_neighbors = length( collect( nearby_agents(agent, model, model.neighborhood_radius ) ) )\n",
    "        \n",
    "        for neighbor in nearby_agents(agent, model, model.neighborhood_radius )\n",
    "            disparity_temp += abs( agent.money - neighbor.money )\n",
    "        end\n",
    "        \n",
    "        if( number_of_neighbors > 0 )\n",
    "            disparity_temp = disparity_temp / number_of_neighbors\n",
    "            disparity += disparity_temp\n",
    "        end\n",
    "\n",
    "    end\n",
    "    return disparity\n",
    "end\n",
    "\n",
    "function ModelEntropy(model)\n",
    "    \n",
    "    agent_energies = Float64[]\n",
    "    \n",
    "    for agent in allagents(model)\n",
    "        agent_energy = agent.kinetic_energy + agent.potential_energy \n",
    "        push!(agent_energies, agent_energy)\n",
    "    end\n",
    "    energy_hist = fit(Histogram, agent_energies, FIXED_ENERGY_BINS)\n",
    "    energy_weights = energy_hist.weights\n",
    "    nonzero_weights = filter(!iszero, energy_weights)\n",
    "    energy_probabilities = nonzero_weights ./ sum(nonzero_weights)\n",
    "    \n",
    "    SS = 0\n",
    "    for ii in 1:length( energy_probabilities )\n",
    "        SS += (-1) * energy_probabilities[ii] * log( energy_probabilities[ii] )\n",
    "    end\n",
    "    \n",
    "    return SS\n",
    "end\n",
    "\n",
    "function ModelInternalEnergy(model)\n",
    "    # U = sum_distinct_states_i p_i * E_i\n",
    "    \n",
    "    agent_energies = Float64[]\n",
    "    \n",
    "    for agent in allagents(model)\n",
    "        agent_energy = agent.kinetic_energy + agent.potential_energy\n",
    "        push!(agent_energies, agent_energy)\n",
    "    end\n",
    "    \n",
    "    energy_hist = fit(Histogram, agent_energies, FIXED_ENERGY_BINS)\n",
    "    energy_probabilities = energy_hist.weights ./ sum(energy_hist.weights)\n",
    "    energy_edges = collect( energy_hist.edges[1] )\n",
    "    energy_values = [ (energy_edges[i]+energy_edges[i+1])/2 for i in 1:length(energy_edges)-1 ]\n",
    "    \n",
    "    UU = 0\n",
    "    for ii in 1:length(energy_values)\n",
    "        UU += energy_probabilities[ii] * energy_values[ii]\n",
    "    end\n",
    "    \n",
    "    return UU\n",
    "end"
   ]
  },
  {
   "cell_type": "code",
   "execution_count": null,
   "metadata": {},
   "outputs": [],
   "source": [
    "function ModelEntropyShannon_Remain(model)\n",
    "    \n",
    "    agent_remains = Int[]\n",
    "    \n",
    "    for agent in allagents(model)\n",
    "        agent_remain = agent.remain\n",
    "        push!(agent_remains, agent_remain)\n",
    "    end\n",
    "    remain_probs = []\n",
    "    for state_type in unique(Int.(agent_remains))\n",
    "        percentage_state = length(findall( state_type .== agent_remains )) / length(agent_remains)\n",
    "        push!(remain_probs,percentage_state)\n",
    "    end\n",
    "    remain_H = 0\n",
    "    for prob in remain_probs\n",
    "        remain_H = remain_H - prob * log(prob)\n",
    "    end\n",
    "    \n",
    "    return remain_H\n",
    "end\n",
    "\n",
    "function ModelEntropyShannon_Money(model)\n",
    "    \n",
    "    agent_monies = Float64[]\n",
    "    for agent in allagents(model)\n",
    "        push!(agent_monies,agent.money)\n",
    "    end      \n",
    "    \n",
    "    money_hist = fit(Histogram, agent_monies, 0:10_000:MAX_MONEY )\n",
    "    money_weights = money_hist.weights    \n",
    "    nonzero_weights = filter(!iszero, money_weights)\n",
    "    money_probabilities = nonzero_weights ./ sum(nonzero_weights)\n",
    "    \n",
    "    money_H = 0\n",
    "    for prob in money_probabilities\n",
    "        money_H = money_H - prob * log(prob)\n",
    "    end\n",
    "        \n",
    "    return money_H\n",
    "end"
   ]
  },
  {
   "cell_type": "code",
   "execution_count": null,
   "metadata": {},
   "outputs": [],
   "source": []
  },
  {
   "cell_type": "code",
   "execution_count": null,
   "metadata": {},
   "outputs": [],
   "source": [
    "\n",
    "agent_money_gain = 100_000\n",
    "\n",
    "function model_step!(model)\n",
    "    global model_iteration += 1\n",
    "    \n",
    "    if( model_iteration % 200 == 0 && model_iteration != 0 )\n",
    "        for agent in allagents(model)\n",
    "            agent.money += agent_money_gain\n",
    "            agent.kinetic_energy = KineticEnergy(agent.money)\n",
    "        end        \n",
    "    end\n",
    "    \n",
    "end"
   ]
  },
  {
   "cell_type": "code",
   "execution_count": null,
   "metadata": {},
   "outputs": [],
   "source": []
  },
  {
   "cell_type": "code",
   "execution_count": null,
   "metadata": {},
   "outputs": [],
   "source": [
    "model = initialize()\n",
    "\n",
    "adata = [ :potential_energy, :kinetic_energy ]\n",
    "mdata = [ ModelRemainTrajectory, ModelFinancialDisparity, \n",
    "                        ModelEntropy, ModelInternalEnergy,\n",
    "                        ModelEntropyShannon_Remain, ModelEntropyShannon_Money]\n",
    "\n",
    "step_num = 100\n",
    "agent_df, model_df = run!(model, agent_step!, model_step!, step_num; adata , mdata)"
   ]
  },
  {
   "cell_type": "code",
   "execution_count": null,
   "metadata": {},
   "outputs": [],
   "source": [
    "p1 = Plots.plot( model_df[!,:ModelRemainTrajectory], linewidth=6, legend=false, \n",
    "            title=\"Remain Ratio\", xlabel=\"iteration\" )\n",
    "p2 = Plots.plot( model_df[!,:ModelFinancialDisparity], linewidth=6, legend=false,\n",
    "            title=\"Monetary Disparity \\n (aggregate)\", xlabel=\"iteration\" )\n",
    "p3 = Plots.plot( model_df[!,:ModelEntropy], linewidth=6, legend=false,\n",
    "            title=\"Model Entropy\", xlabel=\"iteration\" )\n",
    "p4 = Plots.plot( model_df[!,:ModelInternalEnergy], linewidth=6, legend=false,\n",
    "            title=\"Model Internal Energy\", xlabel=\"iteration\" )\n",
    "\n",
    "pOveral = Plots.plot([p1,p2,p3,p4]..., layout=grid(2,2) )\n",
    "savefig(pOveral,\"./plots/pOverall.pdf\")\n",
    "display(pOveral)"
   ]
  },
  {
   "cell_type": "code",
   "execution_count": null,
   "metadata": {},
   "outputs": [],
   "source": [
    "p1 = Plots.plot( model_df[!,:ModelRemainTrajectory], linewidth=6, legend=false, \n",
    "            title=\"Remain Ratio\", xlabel=\"iteration\" )\n",
    "p2 = Plots.plot( model_df[!,:ModelFinancialDisparity], linewidth=6, legend=false,\n",
    "            title=\"Monetary Disparity \\n (aggregate)\", xlabel=\"iteration\" )\n",
    "\n",
    "pOveral = Plots.plot([p1,p2]..., layout=grid(1,2) )\n",
    "savefig(pOveral,\"./plots/pRemainDisparity.pdf\")\n",
    "display(pOveral)"
   ]
  },
  {
   "cell_type": "code",
   "execution_count": null,
   "metadata": {},
   "outputs": [],
   "source": []
  },
  {
   "cell_type": "code",
   "execution_count": null,
   "metadata": {},
   "outputs": [],
   "source": []
  },
  {
   "cell_type": "code",
   "execution_count": null,
   "metadata": {},
   "outputs": [],
   "source": [
    "using QuadGK\n",
    "using ForwardDiff"
   ]
  },
  {
   "cell_type": "code",
   "execution_count": null,
   "metadata": {},
   "outputs": [],
   "source": [
    "exp_fit = 0\n",
    "lambda = 0\n",
    "gamma_fit = 0\n",
    "\n",
    "function pdf_exp_fit(x)\n",
    "    \n",
    "    pdf(exp_fit, x)\n",
    "end\n",
    "\n",
    "function Hist_Derivative(energy)\n",
    "    return ForwardDiff.derivative( pdf_exp_fit , energy )\n",
    "    #return f_prime\n",
    "end\n",
    "\n",
    "function Height_FN(energy)\n",
    "    Hist_Derivative(energy) * log( pdf_exp_fit(energy) ) \n",
    "    #f_prime(energy) * log( pdf_exp_fit(energy) ) \n",
    "end"
   ]
  },
  {
   "cell_type": "code",
   "execution_count": null,
   "metadata": {},
   "outputs": [],
   "source": [
    "function f_prime(x)\n",
    "    \n",
    "    return -(lambda^2) * exp(-lambda * x)\n",
    "    \n",
    "end"
   ]
  },
  {
   "cell_type": "code",
   "execution_count": null,
   "metadata": {},
   "outputs": [],
   "source": [
    "Tenergies = []\n",
    "\n",
    "for STEP_NUM in 1:maximum( agent_df.step )\n",
    "    step_tmp = filter(row -> row.step == STEP_NUM, agent_df);\n",
    "\n",
    "    energies = []\n",
    "    for row in eachrow( step_tmp )\n",
    "        energy_tmp = row.potential_energy + row.kinetic_energy\n",
    "        push!(energies,energy_tmp)\n",
    "    end\n",
    "\n",
    "    m_low = minimum(energies)\n",
    "    m_high = maximum(energies)\n",
    "    step_size = (m_high - m_low) / length(energies)\n",
    "    energy_bins = m_low:step_size:m_high\n",
    "\n",
    "    energy_hist = fit(Histogram, energies, energy_bins)\n",
    "    energy_weights = energy_hist.weights\n",
    "    nonzero_weights = filter(!iszero, energy_weights)\n",
    "    energy_probabilities = nonzero_weights ./ sum(nonzero_weights)\n",
    "\n",
    "    #global gamma_fit = fit(Gamma, energy_probabilities)\n",
    "    global exp_fit = fit(Exponential, energy_probabilities)\n",
    "    global lambda = exp_fit.θ\n",
    "\n",
    "    integral_value, error_estimate = quadgk( Height_FN , m_low, m_high )\n",
    "\n",
    "    T = (1/integral_value) #1.38*10^-23 * (1/integral_value)\n",
    "\n",
    "    push!(Tenergies,T)\n",
    "end\n",
    "\n",
    "Tenergies"
   ]
  },
  {
   "cell_type": "code",
   "execution_count": null,
   "metadata": {},
   "outputs": [],
   "source": [
    "Plots.plot(  log.(ceil.(abs.(Tenergies)))\n",
    "                    ,title=\"Schelling temperature trajectory\", xlab=\"simulation step\", ylab=\"log temperature\", legend=false)"
   ]
  },
  {
   "cell_type": "code",
   "execution_count": null,
   "metadata": {},
   "outputs": [],
   "source": [
    "# G(p,T)= H-TS = U+pV-TS"
   ]
  },
  {
   "cell_type": "code",
   "execution_count": null,
   "metadata": {},
   "outputs": [],
   "source": []
  },
  {
   "cell_type": "code",
   "execution_count": null,
   "metadata": {},
   "outputs": [],
   "source": []
  },
  {
   "cell_type": "code",
   "execution_count": null,
   "metadata": {},
   "outputs": [],
   "source": []
  },
  {
   "cell_type": "code",
   "execution_count": null,
   "metadata": {},
   "outputs": [],
   "source": []
  },
  {
   "cell_type": "code",
   "execution_count": null,
   "metadata": {},
   "outputs": [],
   "source": []
  },
  {
   "cell_type": "code",
   "execution_count": null,
   "metadata": {},
   "outputs": [],
   "source": []
  },
  {
   "cell_type": "code",
   "execution_count": null,
   "metadata": {},
   "outputs": [],
   "source": []
  },
  {
   "cell_type": "code",
   "execution_count": null,
   "metadata": {},
   "outputs": [],
   "source": []
  },
  {
   "cell_type": "code",
   "execution_count": null,
   "metadata": {},
   "outputs": [],
   "source": []
  },
  {
   "cell_type": "code",
   "execution_count": null,
   "metadata": {},
   "outputs": [],
   "source": []
  },
  {
   "cell_type": "code",
   "execution_count": null,
   "metadata": {},
   "outputs": [],
   "source": []
  },
  {
   "cell_type": "code",
   "execution_count": null,
   "metadata": {},
   "outputs": [],
   "source": []
  },
  {
   "cell_type": "code",
   "execution_count": null,
   "metadata": {},
   "outputs": [],
   "source": []
  },
  {
   "cell_type": "code",
   "execution_count": null,
   "metadata": {},
   "outputs": [],
   "source": []
  },
  {
   "cell_type": "code",
   "execution_count": null,
   "metadata": {},
   "outputs": [],
   "source": []
  },
  {
   "cell_type": "code",
   "execution_count": null,
   "metadata": {},
   "outputs": [],
   "source": []
  },
  {
   "cell_type": "code",
   "execution_count": null,
   "metadata": {},
   "outputs": [],
   "source": [
    "x = 0:0.01:0.15\n",
    "y1 = pdf.(gamma_fit,x)\n",
    "y2 = pdf.(exp_fit,x)\n",
    "p1 = histogram(energy_probabilities, normed=true)\n",
    "Plots.plot!(x,y1,linewidth=5, title=\"gamma\")\n",
    "p2 = histogram(energy_probabilities, normed=true)\n",
    "Plots.plot!(x,y2,linewidth=5, title=\"exponential\")\n",
    "Plots.plot(p1,p2)"
   ]
  },
  {
   "cell_type": "code",
   "execution_count": null,
   "metadata": {},
   "outputs": [],
   "source": []
  },
  {
   "cell_type": "code",
   "execution_count": null,
   "metadata": {},
   "outputs": [],
   "source": []
  },
  {
   "cell_type": "code",
   "execution_count": null,
   "metadata": {},
   "outputs": [],
   "source": []
  },
  {
   "cell_type": "code",
   "execution_count": null,
   "metadata": {},
   "outputs": [],
   "source": []
  },
  {
   "cell_type": "code",
   "execution_count": null,
   "metadata": {},
   "outputs": [],
   "source": []
  }
 ],
 "metadata": {
  "kernelspec": {
   "display_name": "Julia 1.8.2",
   "language": "julia",
   "name": "julia-1.8"
  },
  "language_info": {
   "file_extension": ".jl",
   "mimetype": "application/julia",
   "name": "julia",
   "version": "1.8.2"
  }
 },
 "nbformat": 4,
 "nbformat_minor": 5
}
